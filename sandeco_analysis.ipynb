{
    "cells": [
        {
            "cell_type": "code",
            "execution_count": null,
            "source": [
                "import pandas as pd\r\n",
                "import numpy as np"
            ],
            "outputs": [],
            "metadata": {}
        },
        {
            "cell_type": "code",
            "execution_count": null,
            "source": [
                "casos = pd.read_csv('https://raw.githubusercontent.com/marcosvandrade/COVID-19/master/csse_covid_19_data/csse_covid_19_time_series/time_series_covid19_confirmed_global.csv')"
            ],
            "outputs": [],
            "metadata": {}
        },
        {
            "cell_type": "code",
            "execution_count": null,
            "source": [
                "casos.tail()"
            ],
            "outputs": [],
            "metadata": {}
        },
        {
            "cell_type": "markdown",
            "source": [
                "CASOS COVID-19 NO MUNDO"
            ],
            "metadata": {}
        },
        {
            "cell_type": "code",
            "execution_count": null,
            "source": [
                "casos.shape"
            ],
            "outputs": [],
            "metadata": {}
        },
        {
            "cell_type": "code",
            "execution_count": null,
            "source": [
                "casos.iloc[ : , 4 : casos.shape[1]]"
            ],
            "outputs": [],
            "metadata": {}
        },
        {
            "cell_type": "code",
            "execution_count": null,
            "source": [
                "np.sum(casos.iloc[ : , 4 : casos.shape[1]])"
            ],
            "outputs": [],
            "metadata": {}
        },
        {
            "cell_type": "code",
            "execution_count": null,
            "source": [
                "casos = np.sum(casos.iloc[ : , 4 : casos.shape[1]])\r\n",
                "casos.index = pd.DatetimeIndex(casos.index)\r\n",
                "casos.tail()"
            ],
            "outputs": [],
            "metadata": {}
        },
        {
            "cell_type": "code",
            "execution_count": null,
            "source": [
                "casos.plot()"
            ],
            "outputs": [],
            "metadata": {}
        },
        {
            "cell_type": "markdown",
            "source": [
                "CASOS COVID-19 NO BRASIL"
            ],
            "metadata": {}
        },
        {
            "cell_type": "code",
            "execution_count": null,
            "source": [
                "casos_brasil = pd.read_csv('https://raw.githubusercontent.com/marcosvandrade/COVID-19/master/csse_covid_19_data/csse_covid_19_time_series/time_series_covid19_confirmed_global.csv')"
            ],
            "outputs": [],
            "metadata": {}
        },
        {
            "cell_type": "code",
            "execution_count": null,
            "source": [
                "casos_brasil.tail()"
            ],
            "outputs": [],
            "metadata": {}
        },
        {
            "cell_type": "code",
            "execution_count": null,
            "source": [
                "lista_brasil = []\r\n",
                "\r\n",
                "for i in range(len(casos_brasil)):\r\n",
                "    if(casos_brasil.iloc[i,1]) == 'Brazil':\r\n",
                "        lista_brasil.append(casos_brasil.iloc[i]) "
            ],
            "outputs": [],
            "metadata": {}
        },
        {
            "cell_type": "code",
            "execution_count": null,
            "source": [
                "lista_brasil"
            ],
            "outputs": [],
            "metadata": {}
        },
        {
            "cell_type": "code",
            "execution_count": null,
            "source": [
                "casos_brasil = pd.DataFrame(lista_brasil).reset_index(drop=True)\r\n",
                "casos_brasil.head()"
            ],
            "outputs": [],
            "metadata": {}
        },
        {
            "cell_type": "code",
            "execution_count": null,
            "source": [
                "casos_brasil"
            ],
            "outputs": [],
            "metadata": {}
        },
        {
            "cell_type": "code",
            "execution_count": null,
            "source": [
                "casos_brasil.shape"
            ],
            "outputs": [],
            "metadata": {}
        },
        {
            "cell_type": "code",
            "execution_count": null,
            "source": [
                "casos_brasil = np.sum(casos_brasil.iloc[ : , 4 : casos_brasil.shape[1]])\r\n",
                "casos_brasil.index = pd.DatetimeIndex(casos_brasil.index)\r\n",
                "casos_brasil.head"
            ],
            "outputs": [],
            "metadata": {}
        },
        {
            "cell_type": "code",
            "execution_count": null,
            "source": [
                "casos_brasil.plot()"
            ],
            "outputs": [],
            "metadata": {}
        },
        {
            "cell_type": "markdown",
            "source": [
                "MORTES POR COVID NO MUNDO"
            ],
            "metadata": {}
        },
        {
            "cell_type": "code",
            "execution_count": null,
            "source": [
                "mortes = pd.read_csv('https://raw.githubusercontent.com/marcosvandrade/COVID-19/master/csse_covid_19_data/csse_covid_19_time_series/time_series_covid19_deaths_global.csv')"
            ],
            "outputs": [],
            "metadata": {}
        },
        {
            "cell_type": "code",
            "execution_count": null,
            "source": [
                "mortes.shape"
            ],
            "outputs": [],
            "metadata": {}
        },
        {
            "cell_type": "code",
            "execution_count": null,
            "source": [
                "mortes = np.sum(mortes.iloc[ : , 4 : mortes.shape[1]])\r\n",
                "mortes.index = pd.DatetimeIndex(mortes.index)\r\n",
                "mortes.tail()"
            ],
            "outputs": [],
            "metadata": {}
        },
        {
            "cell_type": "code",
            "execution_count": null,
            "source": [
                "mortes.plot()"
            ],
            "outputs": [],
            "metadata": {}
        },
        {
            "cell_type": "code",
            "execution_count": null,
            "source": [
                "mortalidade = (mortes/casos)*100"
            ],
            "outputs": [],
            "metadata": {}
        },
        {
            "cell_type": "code",
            "execution_count": null,
            "source": [
                "mortalidade.plot()"
            ],
            "outputs": [],
            "metadata": {}
        },
        {
            "cell_type": "markdown",
            "source": [
                "MORTES POR COVID NO BRASIL"
            ],
            "metadata": {}
        },
        {
            "cell_type": "code",
            "execution_count": null,
            "source": [
                "mortes_brasil = pd.read_csv('https://raw.githubusercontent.com/marcosvandrade/COVID-19/master/csse_covid_19_data/csse_covid_19_time_series/time_series_covid19_deaths_global.csv')"
            ],
            "outputs": [],
            "metadata": {}
        },
        {
            "cell_type": "code",
            "execution_count": null,
            "source": [
                "mortes_brasil.tail()"
            ],
            "outputs": [],
            "metadata": {}
        },
        {
            "cell_type": "code",
            "execution_count": null,
            "source": [
                "lista_mortes_brasil = []\r\n",
                "\r\n",
                "for i in range(len(mortes_brasil)):\r\n",
                "    if(mortes_brasil.iloc[i,1]) == 'Brazil':\r\n",
                "        lista_mortes_brasil.append(mortes_brasil.iloc[i]) "
            ],
            "outputs": [],
            "metadata": {}
        },
        {
            "cell_type": "code",
            "execution_count": null,
            "source": [
                "lista_mortes_brasil"
            ],
            "outputs": [],
            "metadata": {}
        },
        {
            "cell_type": "code",
            "execution_count": null,
            "source": [
                "mortes_brasil = pd.DataFrame(lista_mortes_brasil).reset_index(drop=True)\r\n",
                "mortes_brasil.head()"
            ],
            "outputs": [],
            "metadata": {}
        },
        {
            "cell_type": "code",
            "execution_count": null,
            "source": [
                "mortes_brasil = np.sum(mortes_brasil.iloc[ : , 4 : mortes_brasil.shape[1]])\r\n",
                "mortes_brasil.index = pd.DatetimeIndex(mortes_brasil.index)\r\n",
                "mortes_brasil.head"
            ],
            "outputs": [],
            "metadata": {}
        },
        {
            "cell_type": "code",
            "execution_count": null,
            "source": [
                "mortes_brasil.plot()"
            ],
            "outputs": [],
            "metadata": {}
        },
        {
            "cell_type": "code",
            "execution_count": null,
            "source": [
                "mortalidade_brasil = (mortes_brasil/casos_brasil)*100"
            ],
            "outputs": [],
            "metadata": {}
        },
        {
            "cell_type": "code",
            "execution_count": null,
            "source": [
                "mortalidade_brasil.plot()"
            ],
            "outputs": [],
            "metadata": {}
        },
        {
            "cell_type": "markdown",
            "source": [
                "RECUPERADOS POR COVID NO MUNDO"
            ],
            "metadata": {}
        },
        {
            "cell_type": "code",
            "execution_count": null,
            "source": [
                "recuperados = pd.read_csv('https://raw.githubusercontent.com/marcosvandrade/COVID-19/master/csse_covid_19_data/csse_covid_19_time_series/time_series_covid19_recovered_global.csv')"
            ],
            "outputs": [],
            "metadata": {}
        },
        {
            "cell_type": "markdown",
            "source": [
                "o shape dos recuperados não está batendo, o que pode estar gerando inconsistência nos dados\r\n",
                "(279, 592)"
            ],
            "metadata": {}
        },
        {
            "cell_type": "code",
            "execution_count": null,
            "source": [
                "recuperados.shape"
            ],
            "outputs": [],
            "metadata": {}
        },
        {
            "cell_type": "code",
            "execution_count": null,
            "source": [
                "recuperados.tail()"
            ],
            "outputs": [],
            "metadata": {}
        },
        {
            "cell_type": "code",
            "execution_count": null,
            "source": [
                "recuperados = np.sum(recuperados.iloc[ : , 4 : recuperados.shape[1]])\r\n",
                "recuperados.index = pd.DatetimeIndex(recuperados.index)\r\n",
                "recuperados.tail()"
            ],
            "outputs": [],
            "metadata": {}
        },
        {
            "cell_type": "code",
            "execution_count": null,
            "source": [
                "recuperados.plot()"
            ],
            "outputs": [],
            "metadata": {}
        },
        {
            "cell_type": "code",
            "execution_count": null,
            "source": [
                "ativos = casos - (recuperados+mortes)"
            ],
            "outputs": [],
            "metadata": {}
        },
        {
            "cell_type": "code",
            "execution_count": null,
            "source": [
                "ativos.tail()"
            ],
            "outputs": [],
            "metadata": {}
        },
        {
            "cell_type": "code",
            "execution_count": null,
            "source": [
                "ativos.plot()"
            ],
            "outputs": [],
            "metadata": {}
        },
        {
            "cell_type": "code",
            "execution_count": null,
            "source": [
                "df_casos = pd.concat([casos,casos_brasil], axis=1)\r\n",
                "df_casos.columns = (['casos','casos_brasil'])"
            ],
            "outputs": [],
            "metadata": {}
        },
        {
            "cell_type": "code",
            "execution_count": null,
            "source": [
                "df_casos.tail()"
            ],
            "outputs": [],
            "metadata": {}
        },
        {
            "cell_type": "code",
            "execution_count": null,
            "source": [
                "# df.plot()"
            ],
            "outputs": [],
            "metadata": {}
        },
        {
            "cell_type": "code",
            "execution_count": null,
            "source": [
                "df_mortes = pd.concat([mortes,mortes_brasil], axis=1)\r\n",
                "df_mortes.columns = (['mortes','mortes_brasil'])"
            ],
            "outputs": [],
            "metadata": {}
        },
        {
            "cell_type": "code",
            "execution_count": null,
            "source": [
                "df_mortes.tail()"
            ],
            "outputs": [],
            "metadata": {}
        },
        {
            "cell_type": "code",
            "execution_count": null,
            "source": [
                "df_mortes.plot()"
            ],
            "outputs": [],
            "metadata": {}
        }
    ],
    "metadata": {
        "orig_nbformat": 4,
        "language_info": {
            "name": "python",
            "version": "3.8.8",
            "mimetype": "text/x-python",
            "codemirror_mode": {
                "name": "ipython",
                "version": 3
            },
            "pygments_lexer": "ipython3",
            "nbconvert_exporter": "python",
            "file_extension": ".py"
        },
        "kernelspec": {
            "name": "python3",
            "display_name": "Python 3.8.8 64-bit"
        },
        "interpreter": {
            "hash": "d66560f532ae28b493057a10cfa97e1ee2813e5857e2b3586af54250cec17825"
        }
    },
    "nbformat": 4,
    "nbformat_minor": 2
}